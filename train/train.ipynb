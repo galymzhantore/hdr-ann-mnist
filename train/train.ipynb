{
 "cells": [
  {
   "cell_type": "code",
   "execution_count": 1,
   "metadata": {},
   "outputs": [],
   "source": [
    "import torch\n",
    "import torchvision.datasets\n",
    "import random\n",
    "import numpy as np\n",
    "from simple_architecture import MNISTNet\n",
    "\n",
    "random.seed(0)\n",
    "np.random.seed(0)\n",
    "torch.manual_seed(0)\n",
    "torch.cuda.manual_seed(0)\n",
    "torch.backends.cudnn.deterministic = True\n",
    "\n",
    "device = torch.device('cuda' if torch.cuda.is_available() else 'cpu')"
   ]
  },
  {
   "cell_type": "code",
   "execution_count": 3,
   "metadata": {},
   "outputs": [],
   "source": [
    "MNIST_train = torchvision.datasets.MNIST('../', download=False, train=True)\n",
    "MNIST_test = torchvision.datasets.MNIST('../', download=False, train=False)\n",
    "mnist_net = MNISTNet(1400, 1).to(device)\n",
    "\n",
    "X_train = MNIST_train.data.float().to(device)\n",
    "y_train = MNIST_train.targets.to(device)\n",
    "X_test = MNIST_test.data.float().to(device)\n",
    "y_test = MNIST_test.targets.to(device)\n"
   ]
  },
  {
   "cell_type": "code",
   "execution_count": null,
   "metadata": {},
   "outputs": [],
   "source": [
    "X_train = X_train.reshape(-1, 28 * 28) \n",
    "X_test = X_test.reshape(-1, 28 * 28)"
   ]
  },
  {
   "cell_type": "code",
   "execution_count": null,
   "metadata": {},
   "outputs": [],
   "source": [
    "lr = 1.0e-3\n",
    "batch_size = 2900\n",
    "n_epoch = 261\n",
    "loss = torch.nn.CrossEntropyLoss()\n",
    "optimizer = torch.optim.Adam(mnist_net.parameters(), lr=1.0e-3)\n",
    "\n",
    "test_loss_history = []\n",
    "test_accuracy_history = []\n",
    "\n",
    "for epoch in range(n_epoch):\n",
    "    order = np.random.permutation(len(X_train))\n",
    "    for start_index in range(0, len(X_train), batch_size):\n",
    "        optimizer.zero_grad()\n",
    "        batch_indexes = order[start_index:start_index+batch_size]\n",
    "        X_batch = X_train[batch_indexes].to(device)\n",
    "        y_batch = y_train[batch_indexes].to(device)\n",
    "        preds = mnist_net.forward(X_batch)\n",
    "        loss_value = loss(preds, y_batch)\n",
    "        loss_value.backward()\n",
    "        optimizer.step()\n",
    "        test_preds = mnist_net.forward(X_test)\n",
    "        accuracy = (test_preds.argmax(dim=1) == y_test).float().mean()\n",
    "        print(f'epoch={epoch}, accuracy={accuracy}, loss={loss_value}')\n",
    "\n"
   ]
  },
  {
   "cell_type": "code",
   "execution_count": null,
   "metadata": {},
   "outputs": [],
   "source": [
    "torch.save({'epoch' : epoch, 'model_state_dict' : mnist_net.state_dict(), 'loss' : loss}, '../model/hdr.pth')"
   ]
  }
 ],
 "metadata": {
  "kernelspec": {
   "display_name": "Python 3 (ipykernel)",
   "language": "python",
   "name": "python3"
  },
  "language_info": {
   "codemirror_mode": {
    "name": "ipython",
    "version": 3
   },
   "file_extension": ".py",
   "mimetype": "text/x-python",
   "name": "python",
   "nbconvert_exporter": "python",
   "pygments_lexer": "ipython3",
   "version": "3.11.7"
  }
 },
 "nbformat": 4,
 "nbformat_minor": 4
}
